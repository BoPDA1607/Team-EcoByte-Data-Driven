{
  "cells": [
    {
      "cell_type": "code",
      "execution_count": 1,
      "id": "nKQGb8Kr5Rpu",
      "metadata": {
        "id": "nKQGb8Kr5Rpu",
        "colab": {
          "base_uri": "https://localhost:8080/"
        },
        "outputId": "5199c526-3a21-4150-dc3c-0eda246c241f"
      },
      "outputs": [
        {
          "output_type": "stream",
          "name": "stdout",
          "text": [
            "Mounted at /content/drive\n"
          ]
        }
      ],
      "source": [
        "from google.colab import drive\n",
        "drive.mount('/content/drive')"
      ]
    },
    {
      "cell_type": "code",
      "execution_count": 2,
      "id": "o5Lk9WnE5Vw4",
      "metadata": {
        "colab": {
          "base_uri": "https://localhost:8080/"
        },
        "id": "o5Lk9WnE5Vw4",
        "outputId": "714daa0f-2492-4889-e332-351c5a158815"
      },
      "outputs": [
        {
          "output_type": "stream",
          "name": "stdout",
          "text": [
            "Requirement already satisfied: scikit-learn in /usr/local/lib/python3.10/dist-packages (1.2.2)\n",
            "Requirement already satisfied: numpy>=1.17.3 in /usr/local/lib/python3.10/dist-packages (from scikit-learn) (1.25.2)\n",
            "Requirement already satisfied: scipy>=1.3.2 in /usr/local/lib/python3.10/dist-packages (from scikit-learn) (1.11.4)\n",
            "Requirement already satisfied: joblib>=1.1.1 in /usr/local/lib/python3.10/dist-packages (from scikit-learn) (1.3.2)\n",
            "Requirement already satisfied: threadpoolctl>=2.0.0 in /usr/local/lib/python3.10/dist-packages (from scikit-learn) (3.4.0)\n"
          ]
        }
      ],
      "source": [
        "!pip install scikit-learn"
      ]
    },
    {
      "cell_type": "markdown",
      "id": "ad7256a6-d40d-4fce-9e5a-bd2a2a366f60",
      "metadata": {
        "id": "ad7256a6-d40d-4fce-9e5a-bd2a2a366f60"
      },
      "source": [
        "### **1. IMPORT LIBRARY**"
      ]
    },
    {
      "cell_type": "code",
      "execution_count": 3,
      "id": "d7d45eb1-5ead-49d9-89b9-077a59f55198",
      "metadata": {
        "id": "d7d45eb1-5ead-49d9-89b9-077a59f55198"
      },
      "outputs": [],
      "source": [
        "#Third-party libraries import\n",
        "import pandas as pd\n",
        "import numpy as np\n",
        "from sklearn.preprocessing import OrdinalEncoder, MinMaxScaler, StandardScaler\n",
        "from sklearn.impute import SimpleImputer\n",
        "from sklearn.pipeline import Pipeline\n",
        "from sklearn.compose import ColumnTransformer\n",
        "import dask.dataframe as dd"
      ]
    },
    {
      "cell_type": "markdown",
      "id": "8bf1cbfd-3789-4048-b813-963f03ccf8ee",
      "metadata": {
        "id": "8bf1cbfd-3789-4048-b813-963f03ccf8ee"
      },
      "source": [
        "### **2. ACQUIRE DATA**\n",
        "- **Note**: D:\\Team EcoByte Data-Driven\\ to your directory"
      ]
    },
    {
      "cell_type": "code",
      "execution_count": 4,
      "id": "apgHcetWv1bC",
      "metadata": {
        "id": "apgHcetWv1bC"
      },
      "outputs": [],
      "source": [
        "file_path = r\"/content/drive/MyDrive/Data/\""
      ]
    },
    {
      "cell_type": "code",
      "execution_count": 7,
      "id": "b55bd734-2101-455a-9b23-e369bf69c659",
      "metadata": {
        "id": "b55bd734-2101-455a-9b23-e369bf69c659"
      },
      "outputs": [],
      "source": [
        "reader = pd.read_csv(file_path + \"Data.csv\", chunksize=1000000)"
      ]
    },
    {
      "cell_type": "code",
      "execution_count": 8,
      "id": "daad59d4-a589-4fff-9966-836032d254de",
      "metadata": {
        "id": "daad59d4-a589-4fff-9966-836032d254de"
      },
      "outputs": [],
      "source": [
        "data = pd.concat([chunk for chunk in reader])"
      ]
    },
    {
      "cell_type": "markdown",
      "id": "6aBPViQYSeGq",
      "metadata": {
        "id": "6aBPViQYSeGq"
      },
      "source": [
        "### **3. WRANGLE DATA**"
      ]
    },
    {
      "cell_type": "markdown",
      "id": "EVUOwk7vtpYA",
      "metadata": {
        "id": "EVUOwk7vtpYA"
      },
      "source": [
        "#### **A. RFM MODEL FUNCTIONS**"
      ]
    },
    {
      "cell_type": "code",
      "execution_count": 9,
      "id": "OeyuyQnRtp1P",
      "metadata": {
        "id": "OeyuyQnRtp1P"
      },
      "outputs": [],
      "source": [
        "def create_data_by_year_filter(dataframe, year):\n",
        "  return dataframe[(dataframe['DATE_DIM'] >= f'{year}-01-01') & (dataframe['DATE_DIM'] <= f'{year}-12-31')]"
      ]
    },
    {
      "cell_type": "code",
      "execution_count": 10,
      "id": "XpjnPya3tqEn",
      "metadata": {
        "id": "XpjnPya3tqEn"
      },
      "outputs": [],
      "source": [
        "def calculate_Q1_median_Q3(dataframe, column):\n",
        "  Q1 = np.percentile(dataframe[column], 25)\n",
        "  Q3 = np.percentile(dataframe[column], 75)\n",
        "  median = np.median(dataframe[column])\n",
        "  return Q1, median, Q3"
      ]
    },
    {
      "cell_type": "code",
      "execution_count": 11,
      "id": "CzzgE8KDtrqn",
      "metadata": {
        "id": "CzzgE8KDtrqn"
      },
      "outputs": [],
      "source": [
        "def calculate_upper_limit_lower_limit(dataframe, column, Q1, Q3):\n",
        "  maximum = float(Q3 + 1.5 * (Q3 - Q1))\n",
        "  minimum = float(np.min(dataframe[column]))\n",
        "  return maximum, minimum"
      ]
    },
    {
      "cell_type": "code",
      "execution_count": 12,
      "id": "y9ctm0C6tq-e",
      "metadata": {
        "id": "y9ctm0C6tq-e"
      },
      "outputs": [],
      "source": [
        "def capping_outlier(value, maximum, minimum):\n",
        "  if value > maximum:\n",
        "    return maximum\n",
        "  elif value < minimum:\n",
        "    return minimum\n",
        "  else:\n",
        "    return value"
      ]
    },
    {
      "cell_type": "code",
      "execution_count": 13,
      "id": "RQ-ZNpBZtrBA",
      "metadata": {
        "id": "RQ-ZNpBZtrBA"
      },
      "outputs": [],
      "source": [
        "def handle_outliers_on_columns(dataframe):\n",
        "  for column in dataframe.columns:\n",
        "    Q1, median, Q3 = calculate_Q1_median_Q3(dataframe, column)\n",
        "    maximum, minimum = calculate_upper_limit_lower_limit(dataframe, column, Q1, Q3)\n",
        "    dataframe[column] = dataframe[column].apply(capping_outlier, args=(maximum, minimum))\n",
        "    dataframe = calculate_score(dataframe, column, Q1, median, Q3)\n",
        "  return dataframe"
      ]
    },
    {
      "cell_type": "code",
      "execution_count": 14,
      "id": "Im34pmM0trDP",
      "metadata": {
        "id": "Im34pmM0trDP"
      },
      "outputs": [],
      "source": [
        "def calculate_recency(dataframe, year):\n",
        "  ref_date = f'{year}-12-31'\n",
        "  dataframe['DATE_DIM'] = pd.to_datetime(dataframe['DATE_DIM'])\n",
        "  ref_date = pd.to_datetime(ref_date)\n",
        "  recency = pd.DataFrame(dataframe.groupby(['BET_ACCOUNT_NUM_HASH']).agg({'DATE_DIM' : lambda x : ((ref_date - x.max()).days)}).reset_index(drop=True))\n",
        "  recency.rename(columns={'DATE_DIM': 'Recency'}, inplace=True)\n",
        "  return recency"
      ]
    },
    {
      "cell_type": "code",
      "execution_count": 15,
      "id": "_9hS5CFStrFg",
      "metadata": {
        "id": "_9hS5CFStrFg"
      },
      "outputs": [],
      "source": [
        "def calculate_frequency(dataframe):\n",
        "  freq = pd.DataFrame(dataframe.groupby('BET_ACCOUNT_NUM_HASH')['DATE_DIM'].count()).reset_index(drop=True)\n",
        "  freq.rename(columns={'DATE_DIM': 'Frequency'}, inplace=True)\n",
        "  return freq"
      ]
    },
    {
      "cell_type": "code",
      "execution_count": 16,
      "id": "YDT_rAc-trHm",
      "metadata": {
        "id": "YDT_rAc-trHm"
      },
      "outputs": [],
      "source": [
        "def calculate_monetary(dataframe):\n",
        "  monetary = pd.DataFrame(dataframe.groupby('BET_ACCOUNT_NUM_HASH')['TOTAL_TURNOVER'].sum()).reset_index(drop=True)\n",
        "  monetary.rename(columns={'TOTAL_TURNOVER': 'Monetary'}, inplace=True)\n",
        "  return monetary"
      ]
    },
    {
      "cell_type": "code",
      "execution_count": 17,
      "id": "jjUNDvXduAxQ",
      "metadata": {
        "id": "jjUNDvXduAxQ"
      },
      "outputs": [],
      "source": [
        "def calculate_RFM(dataframe, year):\n",
        "  df_year = create_data_by_year_filter(dataframe, year)\n",
        "  recency = calculate_recency(df_year, year)\n",
        "  frequency = calculate_frequency(df_year)\n",
        "  monetary = calculate_monetary(df_year)\n",
        "  return recency, frequency, monetary, df_year"
      ]
    },
    {
      "cell_type": "code",
      "execution_count": 18,
      "id": "DNCeng5DuAz_",
      "metadata": {
        "id": "DNCeng5DuAz_"
      },
      "outputs": [],
      "source": [
        "def calculate_score(dataframe, column, Q1, median, Q3):\n",
        "  if column == 'Recency':\n",
        "    dataframe[f'{column}_Score'] = dataframe[column].apply(lambda x: 4 if x <= Q1 else (3 if x <= median else (2 if x <= Q3 else 1)))\n",
        "  else:\n",
        "    dataframe[f'{column}_Score'] = dataframe[column].apply(lambda x: 1 if x <= Q1 else (2 if x <= median else (3 if x <= Q3 else 4)))\n",
        "  return dataframe"
      ]
    },
    {
      "cell_type": "code",
      "execution_count": 19,
      "id": "qZevtcFvuEuJ",
      "metadata": {
        "id": "qZevtcFvuEuJ"
      },
      "outputs": [],
      "source": [
        "def segment_score_2021(value):\n",
        "  if value > 10:\n",
        "    return 'Champions'\n",
        "  elif value > 8:\n",
        "    return 'Loyal Customers'\n",
        "  elif value > 5:\n",
        "    return 'About to sleep'\n",
        "  elif value > 3:\n",
        "    return 'Hibernating'\n",
        "  else:\n",
        "    return 'Lost'\n",
        "\n",
        "def segment_score_2022(value):\n",
        "  if value > 10:\n",
        "    return 'Champions'\n",
        "  elif value > 8:\n",
        "    return 'Loyal Customers'\n",
        "  elif value > 3:\n",
        "    return 'About to sleep'\n",
        "  else:\n",
        "    return 'Hibernating'"
      ]
    },
    {
      "cell_type": "code",
      "execution_count": 20,
      "id": "_DNl9ULTuErm",
      "metadata": {
        "id": "_DNl9ULTuErm"
      },
      "outputs": [],
      "source": [
        "def create_RFM(dataframe, year):\n",
        "  recency, frequency, monetary, df_year = calculate_RFM(dataframe, year)\n",
        "  RFM = pd.concat([recency, frequency, monetary], axis = 1)\n",
        "  RFM = handle_outliers_on_columns(RFM)\n",
        "  RFM['Overall_Score'] = RFM[['Recency_Score', 'Frequency_Score', 'Monetary_Score']].sum(axis=1)\n",
        "  Overall_score = pd.DataFrame(RFM.groupby('Overall_Score')['Recency', 'Frequency', 'Monetary'].mean())\n",
        "  RFM[\"BET_ACCOUNT_NUM_HASH\"] = list(df_year.groupby('BET_ACCOUNT_NUM_HASH').groups.keys())\n",
        "  if year == '2021':\n",
        "    RFM['Segment'] = RFM['Overall_Score'].apply(segment_score_2021)\n",
        "  elif year == '2022':\n",
        "    RFM['Segment'] = RFM['Overall_Score'].apply(segment_score_2022)\n",
        "  RFM.drop(columns = ['Recency', 'Frequency',\t'Monetary', 'Recency_Score', 'Frequency_Score' ,'Monetary_Score', 'Overall_Score']\t, inplace = True)\n",
        "  return RFM, Overall_score"
      ]
    },
    {
      "cell_type": "markdown",
      "id": "e64d499e-7361-450f-97b0-85d6848cea64",
      "metadata": {
        "id": "e64d499e-7361-450f-97b0-85d6848cea64"
      },
      "source": [
        "#### **B. PREPROCESSING FUNCTIONS**"
      ]
    },
    {
      "cell_type": "code",
      "execution_count": 21,
      "id": "5FTrYMXFYsmM",
      "metadata": {
        "id": "5FTrYMXFYsmM"
      },
      "outputs": [],
      "source": [
        "def handle_column(dict, column_to_handle, dataframe):\n",
        "  dataframe[column_to_handle] = dataframe[column_to_handle].replace(dict)\n",
        "  return dataframe"
      ]
    },
    {
      "cell_type": "code",
      "execution_count": 22,
      "id": "sRlig-d-O05i",
      "metadata": {
        "id": "sRlig-d-O05i"
      },
      "outputs": [],
      "source": [
        "def saturday_segment(row):\n",
        "  if row['DAY_OF_WEEK'] != 'Sat':\n",
        "    return 0\n",
        "  else:\n",
        "    if row[\"Segment\"] == 'Lost':\n",
        "      return 1\n",
        "    elif row[\"Segment\"] == 'Hibernating':\n",
        "      return 2\n",
        "    elif row[\"Segment\"] == 'About to sleep':\n",
        "      return 3\n",
        "    elif row[\"Segment\"] == 'Loyal Customers':\n",
        "      return 4\n",
        "    elif row[\"Segment\"] == 'Champions':\n",
        "      return 5"
      ]
    },
    {
      "cell_type": "code",
      "execution_count": 23,
      "id": "8HFIVfZltZQc",
      "metadata": {
        "id": "8HFIVfZltZQc"
      },
      "outputs": [],
      "source": [
        "def segment_gender_day_of_week_residential(row):\n",
        "    if row['DAY_OF_WEEK'] != 'Sat':\n",
        "        return 0\n",
        "    else:\n",
        "        if row['GENDER'] == 'U':\n",
        "            return 0\n",
        "        elif row['GENDER'] == 'M':\n",
        "            if row['RESIDENTIAL_STATE'] == 'WA':\n",
        "                if row['Segment'] == 'Champions':\n",
        "                    return 12\n",
        "                elif row['Segment'] == 'Loyal Customers':\n",
        "                    return 8\n",
        "                elif row['Segment'] == 'About to sleep':\n",
        "                    return 4\n",
        "                else:\n",
        "                    return 0\n",
        "            else:\n",
        "                if row['Segment'] == 'Champions':\n",
        "                    return 11\n",
        "                elif row['Segment'] == 'Loyal Customers':\n",
        "                    return 7\n",
        "                elif row['Segment'] == 'About to sleep':\n",
        "                    return 3\n",
        "                else:\n",
        "                    return 0\n",
        "\n",
        "        else:\n",
        "            if row['RESIDENTIAL_STATE'] == 'WA':\n",
        "                if row['Segment'] == 'Champions':\n",
        "                    return 10\n",
        "                elif row['Segment'] == 'Loyal Customers':\n",
        "                    return 6\n",
        "                elif row['Segment'] == 'About to sleep':\n",
        "                    return 2\n",
        "                else:\n",
        "                    return 0\n",
        "            else:\n",
        "                if row['Segment'] == 'Champions':\n",
        "                    return 9\n",
        "                elif row['Segment'] == 'Loyal Customers':\n",
        "                    return 5\n",
        "                elif row['Segment'] == 'About to sleep':\n",
        "                    return 1\n",
        "                else:\n",
        "                    return 0"
      ]
    },
    {
      "cell_type": "code",
      "execution_count": 24,
      "id": "48fdcc1a-67df-4d88-9aea-52bee6e7b937",
      "metadata": {
        "id": "48fdcc1a-67df-4d88-9aea-52bee6e7b937"
      },
      "outputs": [],
      "source": [
        "def handle_null(dataframe, column):\n",
        "    if (dataframe[column].isnull().any()):\n",
        "        dataframe[column] = dataframe[column].fillna(dataframe[column].median())\n",
        "    return dataframe"
      ]
    },
    {
      "cell_type": "code",
      "execution_count": 25,
      "id": "e87e2b04-c70e-4f7b-b878-333b84fc342e",
      "metadata": {
        "id": "e87e2b04-c70e-4f7b-b878-333b84fc342e"
      },
      "outputs": [],
      "source": [
        "def process_gender_age_band(row):\n",
        "    if row[\"GENDER\"] == \"M\":\n",
        "        if (row[\"AGE_BAND\"] == \"45-54\") | (row[\"AGE_BAND\"] == \"25-34\") | (row[\"AGE_BAND\"] == \"35-44\"):\n",
        "           return 1\n",
        "        elif (row[\"AGE_BAND\"] == \"65+\") | (row[\"AGE_BAND\"] == \"55-64\"):\n",
        "           return 2\n",
        "        elif (row[\"AGE_BAND\"] == \"18-24\"):\n",
        "            return 3\n",
        "        else:\n",
        "            return 0\n",
        "    elif row[\"GENDER\"] == \"F\":\n",
        "        if (row[\"AGE_BAND\"] == \"45-54\") | (row[\"AGE_BAND\"] == \"25-34\") | (row[\"AGE_BAND\"] == \"35-44\"):\n",
        "           return 4\n",
        "        elif (row[\"AGE_BAND\"] == \"65+\") | (row[\"AGE_BAND\"] == \"55-64\"):\n",
        "           return 5\n",
        "        elif (row[\"AGE_BAND\"] == \"18-24\"):\n",
        "            return 6\n",
        "        else:\n",
        "            return 0\n",
        "    else:\n",
        "        if (row[\"AGE_BAND\"] == \"45-54\") | (row[\"AGE_BAND\"] == \"25-34\") | (row[\"AGE_BAND\"] == \"35-44\"):\n",
        "           return 7\n",
        "        elif (row[\"AGE_BAND\"] == \"65+\") | (row[\"AGE_BAND\"] == \"55-64\"):\n",
        "           return 8\n",
        "        elif (row[\"AGE_BAND\"] == \"18-24\"):\n",
        "            return 9\n",
        "        else:\n",
        "            return 0"
      ]
    },
    {
      "cell_type": "code",
      "execution_count": 26,
      "id": "d62f5749-2463-4cca-b941-ec1c55a166ac",
      "metadata": {
        "id": "d62f5749-2463-4cca-b941-ec1c55a166ac"
      },
      "outputs": [],
      "source": [
        "def encode_customer_status(row):\n",
        "    if row[\"TOTAL_TURNOVER\"] < 0:\n",
        "        return 0\n",
        "    else:\n",
        "        if (row[\"DIVIDENDS_PAID\"] - row[\"TOTAL_TURNOVER\"]) < 0:\n",
        "            return 1\n",
        "        elif (row[\"DIVIDENDS_PAID\"] - row[\"TOTAL_TURNOVER\"]) == 0:\n",
        "            return 2\n",
        "        else:\n",
        "            return 3"
      ]
    },
    {
      "cell_type": "code",
      "execution_count": 27,
      "id": "99dfb841-5942-4a60-ae9e-58e8f34b5dfa",
      "metadata": {
        "id": "99dfb841-5942-4a60-ae9e-58e8f34b5dfa"
      },
      "outputs": [],
      "source": [
        "def encode_gross_margin_status(gross_margin):\n",
        "    if gross_margin < 0:\n",
        "        return 1\n",
        "    elif gross_margin == 0:\n",
        "        return 2\n",
        "    else:\n",
        "        return 3"
      ]
    },
    {
      "cell_type": "code",
      "execution_count": 28,
      "id": "b3f42467-19aa-4f7a-a124-fb49b0d42afd",
      "metadata": {
        "id": "b3f42467-19aa-4f7a-a124-fb49b0d42afd"
      },
      "outputs": [],
      "source": [
        "def handle_season(month):\n",
        "    if ((month==1) | (month==2) | (month==3)):\n",
        "        return 1\n",
        "    elif ((month==4) | (month==5) | (month==6)):\n",
        "        return 2\n",
        "    elif ((month==7) | (month==8) | (month==9)):\n",
        "        return 3\n",
        "    elif ((month==10) | (month==11) | (month==12)):\n",
        "        return 4\n",
        "    else:\n",
        "        return 0"
      ]
    },
    {
      "cell_type": "code",
      "execution_count": 29,
      "id": "68936538-68ec-48b2-8b2e-d54d4d08239e",
      "metadata": {
        "id": "68936538-68ec-48b2-8b2e-d54d4d08239e"
      },
      "outputs": [],
      "source": [
        "def is_play_bet(place_bet_value):\n",
        "    if pd.isna(place_bet_value):\n",
        "        return 0\n",
        "    else:\n",
        "        return 1"
      ]
    },
    {
      "cell_type": "code",
      "execution_count": 30,
      "id": "78499766-5035-4e43-bd74-97b68c468eb4",
      "metadata": {
        "id": "78499766-5035-4e43-bd74-97b68c468eb4"
      },
      "outputs": [],
      "source": [
        "def is_world_cup(date):\n",
        "    if (date >= \"2022-11-20\" and date <= \"2022-12-18\"):\n",
        "        return 1\n",
        "    else:\n",
        "        return 0"
      ]
    },
    {
      "cell_type": "markdown",
      "id": "e922087f-892f-463b-82cd-7790e5cd2f7d",
      "metadata": {
        "id": "e922087f-892f-463b-82cd-7790e5cd2f7d"
      },
      "source": [
        "#### **C. DEFINE VARIABLES**"
      ]
    },
    {
      "cell_type": "code",
      "execution_count": 31,
      "id": "60a30fbf-0ed5-4a4c-8d3c-90aec515b0c2",
      "metadata": {
        "id": "60a30fbf-0ed5-4a4c-8d3c-90aec515b0c2"
      },
      "outputs": [],
      "source": [
        "numerical_features = ['AGE', 'TENURE_IN_DAYS', 'FOB_RACING_TURNOVER', 'FOB_SPORT_TURNOVER', 'PARI_RACING_TURNOVER',\n",
        "                     'PARI_SPORT_TURNOVER', 'TOTAL_TURNOVER', 'DIVIDENDS_PAID', 'TICKETS']"
      ]
    },
    {
      "cell_type": "code",
      "execution_count": 32,
      "id": "4f7ca552-1e03-4257-9ad4-3e8cc4bd4fdd",
      "metadata": {
        "id": "4f7ca552-1e03-4257-9ad4-3e8cc4bd4fdd"
      },
      "outputs": [],
      "source": [
        "categorical_features = [\"AGE_BAND\"]"
      ]
    },
    {
      "cell_type": "code",
      "execution_count": 33,
      "id": "a47f2bf3-a714-4818-914c-1e9bfd68805c",
      "metadata": {
        "id": "a47f2bf3-a714-4818-914c-1e9bfd68805c"
      },
      "outputs": [],
      "source": [
        "numerical_pipeline = Pipeline(steps = [\n",
        "    ('numerical-scaler', MinMaxScaler())\n",
        "])"
      ]
    },
    {
      "cell_type": "code",
      "execution_count": 34,
      "id": "239fdcca-2078-4aa0-b9f9-4d1cfb5810f9",
      "metadata": {
        "id": "239fdcca-2078-4aa0-b9f9-4d1cfb5810f9"
      },
      "outputs": [],
      "source": [
        "categorical_ordinal_pipeline = Pipeline(steps = [\n",
        "    ('ordinal-encoder', OrdinalEncoder())\n",
        "])"
      ]
    },
    {
      "cell_type": "code",
      "execution_count": 35,
      "id": "7a3e7c90-036a-48db-b502-8d24ad99cc71",
      "metadata": {
        "id": "7a3e7c90-036a-48db-b502-8d24ad99cc71"
      },
      "outputs": [],
      "source": [
        "columns_transform_categorical = ColumnTransformer(transformers = [\n",
        "    ('categorical_ordinal', categorical_ordinal_pipeline, categorical_features)\n",
        "],\n",
        "    remainder = 'drop',\n",
        "    n_jobs = -1\n",
        ")"
      ]
    },
    {
      "cell_type": "code",
      "execution_count": 36,
      "id": "140ed69e-404c-491d-a14e-782c09b5b2a2",
      "metadata": {
        "id": "140ed69e-404c-491d-a14e-782c09b5b2a2"
      },
      "outputs": [],
      "source": [
        "columns_transform_numerical = ColumnTransformer(transformers = [\n",
        "    ('numerical', numerical_pipeline, numerical_features)\n",
        "],\n",
        "    remainder = 'drop',\n",
        "    n_jobs = -1\n",
        ")"
      ]
    },
    {
      "cell_type": "code",
      "execution_count": 37,
      "id": "TZlnnp3lTmZf",
      "metadata": {
        "id": "TZlnnp3lTmZf"
      },
      "outputs": [],
      "source": [
        "day_of_week_dict = {'Mon' : 2, 'Tue': 3, 'Wed': 4,\n",
        "                    'Thu': 5, 'Fri': 6, 'Sat': 7, 'Sun': 1}"
      ]
    },
    {
      "cell_type": "code",
      "execution_count": 38,
      "id": "EoH8WG9E7F-7",
      "metadata": {
        "id": "EoH8WG9E7F-7"
      },
      "outputs": [],
      "source": [
        "segment_dict = {\n",
        "    'Champions' : 5, 'Loyal Customers' : 4, 'About to sleep' : 3,\n",
        "    'Hibernating' : 2, 'Lost' : 1\n",
        "}"
      ]
    },
    {
      "cell_type": "code",
      "execution_count": 39,
      "id": "ffd76e3c-1a89-40a4-a8aa-fb830c2c074b",
      "metadata": {
        "id": "ffd76e3c-1a89-40a4-a8aa-fb830c2c074b"
      },
      "outputs": [],
      "source": [
        "holidays_2021 = [ \"2021-01-01\", \"2021-01-26\", \"2021-03-01\", \"2021-04-02\", \"2021-04-05\", \"2021-04-25\",\n",
        "                 \"2021-04-26\", \"2021-06-07\", \"2021-09-27\", \"2021-12-25\", \"2021-12-26\", \"2021-12-27\", \"2021-12-28\"]"
      ]
    },
    {
      "cell_type": "code",
      "execution_count": 40,
      "id": "a95eb688-3e24-4393-bbe6-927068dbe864",
      "metadata": {
        "id": "a95eb688-3e24-4393-bbe6-927068dbe864"
      },
      "outputs": [],
      "source": [
        "holidays_2022 = [ \"2022-01-01\", \"2022-01-03\", \"2022-01-26\", \"2022-03-07\", \"2022-04-15\", \"2022-04-17\",\n",
        "                 \"2022-04-18\", \"2022-04-25\", \"2022-06-06\", \"2022-09-22\", \"2022-09-26\", \"2022-12-25\",\n",
        "                 \"2022-12-26\", \"2022-12-27\"]"
      ]
    },
    {
      "cell_type": "code",
      "execution_count": 41,
      "id": "db1a08d7-36bb-4145-b0d1-e95c83a7a1bd",
      "metadata": {
        "id": "db1a08d7-36bb-4145-b0d1-e95c83a7a1bd"
      },
      "outputs": [],
      "source": [
        "holidays_2021_2022 = holidays_2021 + holidays_2022"
      ]
    },
    {
      "cell_type": "markdown",
      "id": "BrtBcHvBufR3",
      "metadata": {
        "id": "BrtBcHvBufR3"
      },
      "source": [
        "#### **C. RFM SEGMENT**"
      ]
    },
    {
      "cell_type": "code",
      "execution_count": 42,
      "id": "OhIpySGruekw",
      "metadata": {
        "colab": {
          "base_uri": "https://localhost:8080/"
        },
        "id": "OhIpySGruekw",
        "outputId": "be831bcf-d91f-4fa1-dcff-5ed8be8cbd2b"
      },
      "outputs": [
        {
          "output_type": "stream",
          "name": "stderr",
          "text": [
            "<ipython-input-14-b5a9f839e8db>:3: SettingWithCopyWarning: \n",
            "A value is trying to be set on a copy of a slice from a DataFrame.\n",
            "Try using .loc[row_indexer,col_indexer] = value instead\n",
            "\n",
            "See the caveats in the documentation: https://pandas.pydata.org/pandas-docs/stable/user_guide/indexing.html#returning-a-view-versus-a-copy\n",
            "  dataframe['DATE_DIM'] = pd.to_datetime(dataframe['DATE_DIM'])\n",
            "<ipython-input-20-5b61176a7915>:6: FutureWarning: Indexing with multiple keys (implicitly converted to a tuple of keys) will be deprecated, use a list instead.\n",
            "  Overall_score = pd.DataFrame(RFM.groupby('Overall_Score')['Recency', 'Frequency', 'Monetary'].mean())\n"
          ]
        }
      ],
      "source": [
        "RFM_2021, overall_score_2021 = create_RFM(data, '2021')"
      ]
    },
    {
      "cell_type": "code",
      "execution_count": 43,
      "id": "uYPfIB-fuenI",
      "metadata": {
        "colab": {
          "base_uri": "https://localhost:8080/"
        },
        "id": "uYPfIB-fuenI",
        "outputId": "263c2273-8c22-49bc-a12d-57b238e4decb"
      },
      "outputs": [
        {
          "output_type": "stream",
          "name": "stderr",
          "text": [
            "<ipython-input-14-b5a9f839e8db>:3: SettingWithCopyWarning: \n",
            "A value is trying to be set on a copy of a slice from a DataFrame.\n",
            "Try using .loc[row_indexer,col_indexer] = value instead\n",
            "\n",
            "See the caveats in the documentation: https://pandas.pydata.org/pandas-docs/stable/user_guide/indexing.html#returning-a-view-versus-a-copy\n",
            "  dataframe['DATE_DIM'] = pd.to_datetime(dataframe['DATE_DIM'])\n",
            "<ipython-input-20-5b61176a7915>:6: FutureWarning: Indexing with multiple keys (implicitly converted to a tuple of keys) will be deprecated, use a list instead.\n",
            "  Overall_score = pd.DataFrame(RFM.groupby('Overall_Score')['Recency', 'Frequency', 'Monetary'].mean())\n"
          ]
        }
      ],
      "source": [
        "RFM_2022, overall_score_2022 = create_RFM(data, '2022')"
      ]
    },
    {
      "cell_type": "code",
      "execution_count": 44,
      "id": "z3zZZLzzuepn",
      "metadata": {
        "id": "z3zZZLzzuepn"
      },
      "outputs": [],
      "source": [
        "merge_2021 = pd.merge(create_data_by_year_filter(data, 2021), RFM_2021, on='BET_ACCOUNT_NUM_HASH', how = 'inner')\n",
        "merge_2022 = pd.merge(create_data_by_year_filter(data, 2022), RFM_2022, on='BET_ACCOUNT_NUM_HASH', how = 'inner')"
      ]
    },
    {
      "cell_type": "code",
      "execution_count": 45,
      "id": "-YHNZgIKuesH",
      "metadata": {
        "id": "-YHNZgIKuesH"
      },
      "outputs": [],
      "source": [
        "data = pd.merge(merge_2021, merge_2022, how = 'outer')"
      ]
    },
    {
      "cell_type": "code",
      "execution_count": null,
      "id": "ENFsGkpDzquZ",
      "metadata": {
        "id": "ENFsGkpDzquZ"
      },
      "outputs": [],
      "source": [
        "data.to_csv(file_path + 'overview_and_detail.csv')"
      ]
    },
    {
      "cell_type": "markdown",
      "id": "9ab9aa36-9c2b-4a6c-95fe-75a92339f9d6",
      "metadata": {
        "id": "9ab9aa36-9c2b-4a6c-95fe-75a92339f9d6"
      },
      "source": [
        "#### **D. FEATURES ENGINEERING**"
      ]
    },
    {
      "cell_type": "markdown",
      "id": "e4343fe7-6854-4adb-a584-35e63f82dea2",
      "metadata": {
        "id": "e4343fe7-6854-4adb-a584-35e63f82dea2"
      },
      "source": [
        "##### **C1. CREATE NEW FEATURES**"
      ]
    },
    {
      "cell_type": "code",
      "execution_count": null,
      "id": "26yMfprLaWKA",
      "metadata": {
        "id": "26yMfprLaWKA"
      },
      "outputs": [],
      "source": [
        "data[\"DATE_DIM\"] = pd.to_datetime(data[\"DATE_DIM\"])"
      ]
    },
    {
      "cell_type": "code",
      "execution_count": null,
      "id": "87431709-1058-40a8-bfc4-96bca570c1db",
      "metadata": {
        "id": "87431709-1058-40a8-bfc4-96bca570c1db"
      },
      "outputs": [],
      "source": [
        "data[\"IS_YEAR\"] = data[\"DATE_DIM\"].dt.year"
      ]
    },
    {
      "cell_type": "code",
      "execution_count": null,
      "id": "130ee091-4f5d-4399-a112-4daea92bd668",
      "metadata": {
        "id": "130ee091-4f5d-4399-a112-4daea92bd668"
      },
      "outputs": [],
      "source": [
        "data[\"IS_MONTH\"] = data[\"DATE_DIM\"].dt.month"
      ]
    },
    {
      "cell_type": "markdown",
      "id": "9d7aa8b0-deef-4c22-a0c3-02e4bbad6ee1",
      "metadata": {
        "id": "9d7aa8b0-deef-4c22-a0c3-02e4bbad6ee1"
      },
      "source": [
        "###### **a. SEASONS FEATURES**"
      ]
    },
    {
      "cell_type": "code",
      "execution_count": null,
      "id": "b6e6e58c-1d1c-4aa4-8ba8-2687bf90d148",
      "metadata": {
        "id": "b6e6e58c-1d1c-4aa4-8ba8-2687bf90d148"
      },
      "outputs": [],
      "source": [
        "data[\"SEASON_ENCODE\"] = data[\"IS_MONTH\"].apply(handle_season)"
      ]
    },
    {
      "cell_type": "code",
      "execution_count": null,
      "id": "orLcrt-Paprb",
      "metadata": {
        "id": "orLcrt-Paprb"
      },
      "outputs": [],
      "source": [
        "data[\"IS_SPRING\"] = data[\"SEASON_ENCODE\"].apply(lambda x : 1 if x == 1 else 0)"
      ]
    },
    {
      "cell_type": "code",
      "execution_count": null,
      "id": "wgAtElvvf285",
      "metadata": {
        "id": "wgAtElvvf285"
      },
      "outputs": [],
      "source": [
        "data[\"IS_SUMMER\"] = data[\"SEASON_ENCODE\"].apply(lambda x : 1 if x == 2 else 0)"
      ]
    },
    {
      "cell_type": "code",
      "execution_count": null,
      "id": "ryEf45F2f226",
      "metadata": {
        "id": "ryEf45F2f226"
      },
      "outputs": [],
      "source": [
        "data[\"IS_AUTUMN\"] = data[\"SEASON_ENCODE\"].apply(lambda x : 1 if x == 3 else 0)"
      ]
    },
    {
      "cell_type": "code",
      "execution_count": null,
      "id": "NjtWy6FFf1uB",
      "metadata": {
        "id": "NjtWy6FFf1uB"
      },
      "outputs": [],
      "source": [
        "data[\"IS_WINTER\"] = data[\"SEASON_ENCODE\"].apply(lambda x : 1 if x == 4 else 0)"
      ]
    },
    {
      "cell_type": "code",
      "execution_count": null,
      "id": "b68d12c6-4ecb-4bf6-8006-620ef8955ebf",
      "metadata": {
        "id": "b68d12c6-4ecb-4bf6-8006-620ef8955ebf"
      },
      "outputs": [],
      "source": [
        "data[\"IS_MONTH\"] = data[[\"IS_MONTH\", \"IS_YEAR\"]].apply(lambda row: (row[\"IS_MONTH\"] + 12) if (row[\"IS_YEAR\"] == 2022) else row[\"IS_MONTH\"], axis=1)"
      ]
    },
    {
      "cell_type": "markdown",
      "id": "d147dbdc-5fa6-478d-a651-1705a2e7c58f",
      "metadata": {
        "id": "d147dbdc-5fa6-478d-a651-1705a2e7c58f"
      },
      "source": [
        "###### **b. GENDER FEATURES**"
      ]
    },
    {
      "cell_type": "code",
      "execution_count": null,
      "id": "d10111b8-2ea3-404e-a090-e745423254f9",
      "metadata": {
        "id": "d10111b8-2ea3-404e-a090-e745423254f9"
      },
      "outputs": [],
      "source": [
        "data[\"MALE\"] = data[\"GENDER\"].apply(lambda x: 1 if (x == \"M\") else 0)"
      ]
    },
    {
      "cell_type": "code",
      "execution_count": null,
      "id": "04d19d4e-252e-4f1e-8f83-e6db87924bc2",
      "metadata": {
        "id": "04d19d4e-252e-4f1e-8f83-e6db87924bc2"
      },
      "outputs": [],
      "source": [
        "data[\"FEMALE\"] = data[\"GENDER\"].apply(lambda x: 1 if (x == \"F\") else 0)"
      ]
    },
    {
      "cell_type": "code",
      "execution_count": null,
      "id": "cc210e1d-593b-412e-bc27-d430c1a14521",
      "metadata": {
        "id": "cc210e1d-593b-412e-bc27-d430c1a14521"
      },
      "outputs": [],
      "source": [
        "data[\"UNKNOWN\"] = data[\"GENDER\"].apply(lambda x: 1 if (x == \"U\") else 0)"
      ]
    },
    {
      "cell_type": "code",
      "execution_count": null,
      "id": "a735397f-a6f8-4c98-a828-36697b651067",
      "metadata": {
        "id": "a735397f-a6f8-4c98-a828-36697b651067"
      },
      "outputs": [],
      "source": [
        "data[\"GENDER_AGE_BAND\"] = data[[\"GENDER\", \"AGE_BAND\"]].apply(process_gender_age_band,axis=1)"
      ]
    },
    {
      "cell_type": "markdown",
      "id": "810188a4-6b18-4bc3-b565-16d8d6bab482",
      "metadata": {
        "id": "810188a4-6b18-4bc3-b565-16d8d6bab482"
      },
      "source": [
        "###### **c. HOLIDAYS FEATURES**"
      ]
    },
    {
      "cell_type": "code",
      "execution_count": null,
      "id": "8df3b897-4689-4050-ad0f-34e4873a9c7f",
      "metadata": {
        "id": "8df3b897-4689-4050-ad0f-34e4873a9c7f"
      },
      "outputs": [],
      "source": [
        "data[\"DATE_DIM\"] = data[\"DATE_DIM\"].astype(str)"
      ]
    },
    {
      "cell_type": "code",
      "execution_count": null,
      "id": "d1187d1a-25df-4659-a79c-6817865f8af1",
      "metadata": {
        "id": "d1187d1a-25df-4659-a79c-6817865f8af1"
      },
      "outputs": [],
      "source": [
        "data[\"IS_HOLIDAY\"] = data[\"DATE_DIM\"].apply(lambda x: 1 if (x in holidays_2021_2022) else 0)"
      ]
    },
    {
      "cell_type": "code",
      "execution_count": null,
      "id": "e4d23bff-1a9f-436a-8d0d-59bf465f3ced",
      "metadata": {
        "id": "e4d23bff-1a9f-436a-8d0d-59bf465f3ced"
      },
      "outputs": [],
      "source": [
        "data[\"IS_WORLD_CUP\"] = data[\"DATE_DIM\"].apply(is_world_cup)"
      ]
    },
    {
      "cell_type": "markdown",
      "id": "766a4233-68df-4940-a6ef-b79955c8544f",
      "metadata": {
        "id": "766a4233-68df-4940-a6ef-b79955c8544f"
      },
      "source": [
        "###### **d. RESIDENTIAL_STATE FEATURES**"
      ]
    },
    {
      "cell_type": "code",
      "execution_count": null,
      "id": "ed800537-bc4b-487a-974a-cf8d1cf79c0a",
      "metadata": {
        "id": "ed800537-bc4b-487a-974a-cf8d1cf79c0a"
      },
      "outputs": [],
      "source": [
        "data[\"IS_WA\"] = data[\"RESIDENTIAL_STATE\"].apply(lambda x: 1 if (x == \"WA\") else 0)"
      ]
    },
    {
      "cell_type": "code",
      "execution_count": null,
      "id": "69cbcbe9-d3fa-404d-b66a-8ec79389b075",
      "metadata": {
        "id": "69cbcbe9-d3fa-404d-b66a-8ec79389b075"
      },
      "outputs": [],
      "source": [
        "data[\"IS_OTH\"] = data[\"RESIDENTIAL_STATE\"].apply(lambda x: 1 if (x == \"WA\") else 0)"
      ]
    },
    {
      "cell_type": "markdown",
      "id": "d8ad29cf-7a46-4c6e-a2ef-0fbdcfb84ee5",
      "metadata": {
        "id": "d8ad29cf-7a46-4c6e-a2ef-0fbdcfb84ee5"
      },
      "source": [
        "###### **e. WEEKDAY FEATURES**"
      ]
    },
    {
      "cell_type": "code",
      "execution_count": null,
      "id": "a6b7bbc6-bfd3-481b-905b-dd70795fe8b8",
      "metadata": {
        "id": "a6b7bbc6-bfd3-481b-905b-dd70795fe8b8"
      },
      "outputs": [],
      "source": [
        "data[\"IS_WEEKEND\"] = data[\"DAY_OF_WEEK\"].apply(lambda x: 1 if ((x == 7) | (x == 1)) else 0)"
      ]
    },
    {
      "cell_type": "code",
      "execution_count": null,
      "id": "tSfI90BIaQGS",
      "metadata": {
        "id": "tSfI90BIaQGS"
      },
      "outputs": [],
      "source": [
        "data[\"IS_WEEKDAY\"] = data[\"IS_WEEKEND\"].apply(lambda x: 0 if (x == 1) else 1)"
      ]
    },
    {
      "cell_type": "markdown",
      "id": "964567f0-1ccb-4ece-ac1a-e611ac24fab4",
      "metadata": {
        "id": "964567f0-1ccb-4ece-ac1a-e611ac24fab4"
      },
      "source": [
        "###### **f. YEARS FEATURES**"
      ]
    },
    {
      "cell_type": "code",
      "execution_count": null,
      "id": "ccc8a4fd-1531-4fd7-b596-566c79a55025",
      "metadata": {
        "id": "ccc8a4fd-1531-4fd7-b596-566c79a55025"
      },
      "outputs": [],
      "source": [
        "data[\"IS_YEAR_2021\"] = data[\"IS_YEAR\"].apply(lambda x: 1 if x == 2021 else 0)"
      ]
    },
    {
      "cell_type": "code",
      "execution_count": null,
      "id": "e2cb868a-aa06-4b22-832f-1c667bbfea96",
      "metadata": {
        "id": "e2cb868a-aa06-4b22-832f-1c667bbfea96"
      },
      "outputs": [],
      "source": [
        "data[\"IS_YEAR_2022\"] = data[\"IS_YEAR\"].apply(lambda x: 1 if x == 2022 else 0)"
      ]
    },
    {
      "cell_type": "markdown",
      "id": "9a243f98-e147-494b-9a80-4044e9c5d30f",
      "metadata": {
        "id": "9a243f98-e147-494b-9a80-4044e9c5d30f"
      },
      "source": [
        "###### **g. STATUS FEATURES**"
      ]
    },
    {
      "cell_type": "code",
      "execution_count": null,
      "id": "c7b209c5-c831-493f-9c8b-3959559cbc3a",
      "metadata": {
        "id": "c7b209c5-c831-493f-9c8b-3959559cbc3a"
      },
      "outputs": [],
      "source": [
        "data[\"CUSTOMER_STATUS\"] = data[[\"DIVIDENDS_PAID\", \"TOTAL_TURNOVER\"]].apply(encode_customer_status,axis=1)"
      ]
    },
    {
      "cell_type": "code",
      "execution_count": null,
      "id": "5b238b60-ac93-4d1b-9f34-268833412f45",
      "metadata": {
        "id": "5b238b60-ac93-4d1b-9f34-268833412f45"
      },
      "outputs": [],
      "source": [
        "data[\"GROSS_MARGIN_STATUS\"] = data[\"GROSS_MARGIN\"].apply(encode_gross_margin_status)"
      ]
    },
    {
      "cell_type": "markdown",
      "id": "d9da673f-10a3-437d-8476-40d9c26a981b",
      "metadata": {
        "id": "d9da673f-10a3-437d-8476-40d9c26a981b"
      },
      "source": [
        "###### **h. BET FEATURES**"
      ]
    },
    {
      "cell_type": "code",
      "execution_count": null,
      "id": "55ab1822-8cd2-4bd1-90bb-fb66095b2a8b",
      "metadata": {
        "id": "55ab1822-8cd2-4bd1-90bb-fb66095b2a8b"
      },
      "outputs": [],
      "source": [
        "data[\"IS_PLAY_FOB_RACING\"] = data[\"FOB_RACING_TURNOVER\"].apply(is_play_bet)"
      ]
    },
    {
      "cell_type": "code",
      "execution_count": null,
      "id": "ac2579c9-900e-42d8-a091-525ceef953ba",
      "metadata": {
        "id": "ac2579c9-900e-42d8-a091-525ceef953ba"
      },
      "outputs": [],
      "source": [
        "data[\"IS_PLAY_FOB_SPORT\"] = data[\"FOB_SPORT_TURNOVER\"].apply(is_play_bet)"
      ]
    },
    {
      "cell_type": "code",
      "execution_count": null,
      "id": "cd95ed3f-2849-4b42-beca-6e6d31e99684",
      "metadata": {
        "id": "cd95ed3f-2849-4b42-beca-6e6d31e99684"
      },
      "outputs": [],
      "source": [
        "data[\"IS_PLAY_FOB\"] = data[\"IS_PLAY_FOB_RACING\"] | data[\"IS_PLAY_FOB_SPORT\"]"
      ]
    },
    {
      "cell_type": "code",
      "execution_count": null,
      "id": "3de37be1-d1aa-49cb-b602-a8225314621f",
      "metadata": {
        "id": "3de37be1-d1aa-49cb-b602-a8225314621f"
      },
      "outputs": [],
      "source": [
        "data[\"IS_PLAY_PARI_RACING\"] = data[\"PARI_RACING_TURNOVER\"].apply(is_play_bet)"
      ]
    },
    {
      "cell_type": "code",
      "execution_count": null,
      "id": "9c11bf80-f28b-4c8b-b396-37749b09097e",
      "metadata": {
        "id": "9c11bf80-f28b-4c8b-b396-37749b09097e"
      },
      "outputs": [],
      "source": [
        "data[\"IS_PLAY_PARI_SPORT\"] = data[\"PARI_SPORT_TURNOVER\"].apply(is_play_bet)"
      ]
    },
    {
      "cell_type": "code",
      "execution_count": null,
      "id": "c0615028-910b-4f0d-8f8e-df721e41bc55",
      "metadata": {
        "id": "c0615028-910b-4f0d-8f8e-df721e41bc55"
      },
      "outputs": [],
      "source": [
        "data[\"IS_PLAY_PARI\"] = data[\"IS_PLAY_PARI_SPORT\"] | data[\"IS_PLAY_PARI_RACING\"]"
      ]
    },
    {
      "cell_type": "code",
      "execution_count": null,
      "id": "734489bd-9821-4e34-9912-5cde6577ebc2",
      "metadata": {
        "id": "734489bd-9821-4e34-9912-5cde6577ebc2"
      },
      "outputs": [],
      "source": [
        "data[\"IS_PLAY_SPORT\"] = data[\"IS_PLAY_FOB_SPORT\"] | data[\"IS_PLAY_PARI_SPORT\"]"
      ]
    },
    {
      "cell_type": "code",
      "execution_count": null,
      "id": "a5e4c190-5af3-4f81-8095-03a2ecab479f",
      "metadata": {
        "id": "a5e4c190-5af3-4f81-8095-03a2ecab479f"
      },
      "outputs": [],
      "source": [
        "data[\"IS_PLAY_RACING\"] = data[\"IS_PLAY_FOB_RACING\"] | data[\"IS_PLAY_PARI_RACING\"]"
      ]
    },
    {
      "cell_type": "code",
      "execution_count": null,
      "id": "782843b2-c28f-436d-b8ee-b54de2a75f9b",
      "metadata": {
        "id": "782843b2-c28f-436d-b8ee-b54de2a75f9b"
      },
      "outputs": [],
      "source": [
        "data[\"IS_PLAY_BET\"] = data[\"IS_PLAY_FOB\"] | data[\"IS_PLAY_PARI\"]"
      ]
    },
    {
      "cell_type": "code",
      "execution_count": null,
      "id": "9bd065b5-9aa4-4746-b08c-ea8b9d38e4c7",
      "metadata": {
        "id": "9bd065b5-9aa4-4746-b08c-ea8b9d38e4c7"
      },
      "outputs": [],
      "source": [
        "data[\"IS_BET_DURING_WORLD_CUP\"] = data[\"IS_PLAY_SPORT\"] & data[\"IS_WORLD_CUP\"]"
      ]
    },
    {
      "cell_type": "markdown",
      "id": "KmCukWmvtnoF",
      "metadata": {
        "id": "KmCukWmvtnoF"
      },
      "source": [
        "###### **i. SEGMENT FEATURES**"
      ]
    },
    {
      "cell_type": "code",
      "execution_count": null,
      "id": "5i1uw0_BPE-F",
      "metadata": {
        "id": "5i1uw0_BPE-F"
      },
      "outputs": [],
      "source": [
        "data[\"SEGMENT_DAY_OF_WEEK\"] = data[['DAY_OF_WEEK', 'Segment']].apply(saturday_segment, axis=1)"
      ]
    },
    {
      "cell_type": "code",
      "execution_count": null,
      "id": "k-bOPkMJtqjz",
      "metadata": {
        "id": "k-bOPkMJtqjz"
      },
      "outputs": [],
      "source": [
        "data['SEGMENT_GENDER_DAY_OF_WEEK_RESIDENTIAL'] = data[['DAY_OF_WEEK', 'GENDER', 'RESIDENTIAL_STATE', 'Segment']].apply(segment_gender_day_of_week_residential, axis=1)"
      ]
    },
    {
      "cell_type": "markdown",
      "id": "3ac50cd0-25f4-48f6-b427-07db7abf79ed",
      "metadata": {
        "id": "3ac50cd0-25f4-48f6-b427-07db7abf79ed"
      },
      "source": [
        "##### **C2. PROCESS EXISTING FEATURES**"
      ]
    },
    {
      "cell_type": "code",
      "execution_count": null,
      "id": "_bpe0tWAYsTl",
      "metadata": {
        "id": "_bpe0tWAYsTl"
      },
      "outputs": [],
      "source": [
        "data = data.drop(columns=[\"BET_ACCOUNT_NUM_HASH\", \"GENDER\", \"RESIDENTIAL_STATE\", \"DATE_DIM\"])"
      ]
    },
    {
      "cell_type": "code",
      "execution_count": null,
      "id": "7b5f0e86-a648-4d12-a0fd-7324a540bcc6",
      "metadata": {
        "id": "7b5f0e86-a648-4d12-a0fd-7324a540bcc6"
      },
      "outputs": [],
      "source": [
        "for column in data.columns:\n",
        "    data = handle_null(data, column)"
      ]
    },
    {
      "cell_type": "code",
      "execution_count": null,
      "id": "86ce293b-632f-4143-b228-3fdf342e8aa2",
      "metadata": {
        "id": "86ce293b-632f-4143-b228-3fdf342e8aa2"
      },
      "outputs": [],
      "source": [
        "data[categorical_features] = columns_transform_categorical.fit_transform(data)"
      ]
    },
    {
      "cell_type": "code",
      "execution_count": null,
      "id": "2efb3c0d-c16a-4cc4-90b3-bdd37f88b4d9",
      "metadata": {
        "id": "2efb3c0d-c16a-4cc4-90b3-bdd37f88b4d9"
      },
      "outputs": [],
      "source": [
        "data[numerical_features] = columns_transform_numerical.fit_transform(data)"
      ]
    },
    {
      "cell_type": "code",
      "execution_count": null,
      "id": "jhUCJDEmY5Fd",
      "metadata": {
        "id": "jhUCJDEmY5Fd",
        "outputId": "6b840bb3-3aeb-4cc7-a74e-83aa9ffe68dc"
      },
      "outputs": [
        {
          "name": "stderr",
          "output_type": "stream",
          "text": [
            "C:\\Users\\DELL\\AppData\\Local\\Temp\\ipykernel_388\\454105877.py:2: FutureWarning: Downcasting behavior in `replace` is deprecated and will be removed in a future version. To retain the old behavior, explicitly call `result.infer_objects(copy=False)`. To opt-in to the future behavior, set `pd.set_option('future.no_silent_downcasting', True)`\n",
            "  dataframe[column_to_handle] = dataframe[column_to_handle].replace(dict)\n"
          ]
        }
      ],
      "source": [
        "data = handle_column(day_of_week_dict, \"DAY_OF_WEEK\", data)"
      ]
    },
    {
      "cell_type": "code",
      "execution_count": null,
      "id": "7K1Fo9ln7Q3V",
      "metadata": {
        "id": "7K1Fo9ln7Q3V"
      },
      "outputs": [],
      "source": [
        "data = handle_column(segment_dict, 'Segment', data)"
      ]
    },
    {
      "cell_type": "code",
      "execution_count": null,
      "id": "2220c2d6-26fd-45b4-a80d-10a6b736bd57",
      "metadata": {
        "id": "2220c2d6-26fd-45b4-a80d-10a6b736bd57"
      },
      "outputs": [],
      "source": [
        "data.to_csv(file_path + \"ProcessedData.csv\", index=False)"
      ]
    },
    {
      "cell_type": "code",
      "execution_count": null,
      "id": "eJzMsmCVKiDU",
      "metadata": {
        "id": "eJzMsmCVKiDU"
      },
      "outputs": [],
      "source": []
    }
  ],
  "metadata": {
    "accelerator": "GPU",
    "colab": {
      "gpuType": "T4",
      "provenance": []
    },
    "kernelspec": {
      "display_name": "Python 3 (ipykernel)",
      "language": "python",
      "name": "python3"
    },
    "language_info": {
      "codemirror_mode": {
        "name": "ipython",
        "version": 3
      },
      "file_extension": ".py",
      "mimetype": "text/x-python",
      "name": "python",
      "nbconvert_exporter": "python",
      "pygments_lexer": "ipython3",
      "version": "3.9.0"
    }
  },
  "nbformat": 4,
  "nbformat_minor": 5
}